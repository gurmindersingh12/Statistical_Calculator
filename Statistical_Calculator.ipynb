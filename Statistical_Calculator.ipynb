{
  "nbformat": 4,
  "nbformat_minor": 0,
  "metadata": {
    "colab": {
      "provenance": [],
      "authorship_tag": "ABX9TyMvpD2h7JDCyfjrU7ZhhMaq"
    },
    "kernelspec": {
      "name": "python3",
      "display_name": "Python 3"
    },
    "language_info": {
      "name": "python"
    }
  },
  "cells": [
    {
      "cell_type": "markdown",
      "source": [
        "# Step 1: Load Required Libraries and Define Functions"
      ],
      "metadata": {
        "id": "vs7vpHy2Gy3Q"
      }
    },
    {
      "cell_type": "code",
      "execution_count": 1,
      "metadata": {
        "id": "pgBxkNXbGuVX"
      },
      "outputs": [],
      "source": [
        "# Import necessary libraries\n",
        "import pandas as pd\n",
        "import numpy as np\n",
        "from scipy.stats import t\n",
        "from statsmodels.formula.api import ols\n",
        "from statsmodels.stats.anova import anova_lm\n",
        "from statsmodels.stats.multicomp import pairwise_tukeyhsd\n",
        "\n",
        "\n"
      ]
    },
    {
      "cell_type": "code",
      "source": [
        "# Function to calculate LSD (Least Significant Difference) based on ANOVA\n",
        "def calculate_lsd_anova(data, trait, alpha=0.05):\n",
        "    # Perform ANOVA assuming `ENV` and `REP` as factors (replace with your factors if different)\n",
        "    model = ols(f'{trait} ~ C(ENV) + C(REP)', data=data).fit()\n",
        "    anova_table = anova_lm(model)\n",
        "\n",
        "    # Extract Mean Square Error (MSE) and degrees of freedom from ANOVA\n",
        "    mse = anova_table['mean_sq'][-1]  # Last row in ANOVA table is the residual/error\n",
        "    df_error = anova_table['df'][-1]\n",
        "\n",
        "    # Calculate t-critical value for the given confidence level\n",
        "    t_critical = t.ppf(1 - alpha / 2, df_error)\n",
        "\n",
        "    # Calculate LSD\n",
        "    lsd = t_critical * np.sqrt(2 * mse / data['TRT'].nunique())  # Adjust 'TRT' based on treatment count per ENV\n",
        "    return lsd\n"
      ],
      "metadata": {
        "id": "jsOjjMDvIWJ3"
      },
      "execution_count": 2,
      "outputs": []
    },
    {
      "cell_type": "code",
      "source": [
        "# Function to perform Tukey's HSD test\n",
        "def perform_tukey_hsd(data, trait):\n",
        "    tukey_result = pairwise_tukeyhsd(endog=data[trait], groups=data['RIL_ID'], alpha=0.05)\n",
        "    return tukey_result\n"
      ],
      "metadata": {
        "id": "vDg0yKwhIYDl"
      },
      "execution_count": 3,
      "outputs": []
    }
  ]
}